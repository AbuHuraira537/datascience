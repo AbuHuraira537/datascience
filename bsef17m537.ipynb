{
 "cells": [
  {
   "cell_type": "markdown",
   "metadata": {},
   "source": [
    "# Assignment 1 (submission till : 12/10/2020, 13:00 hrs)\n",
    "\n",
    "#### Submission Guidelines\n",
    "\n",
    "Rename the .ipynb file with your roll number, like BSEF17M501.ipynb. The assignment will not be marked otherwise.\n",
    "\n",
    "Only assignments submitted through github and before the deadline will be accepted. \n"
   ]
  },
  {
   "cell_type": "markdown",
   "metadata": {},
   "source": [
    "#### Excercise 1: Help me with the attendance marking\n",
    "\n",
    "I have provided you a text file `21-09-2020.txt`, that contains the chat during the class. I want you to take out the roll numbers and then return a list of roll numbers in sorted."
   ]
  },
  {
   "cell_type": "code",
   "execution_count": 109,
   "metadata": {},
   "outputs": [
    {
     "name": "stdout",
     "output_type": "stream",
     "text": [
      "['Bsef17a501', 'Bsef17a502', 'Bsef17a506', 'Bsef17a508', 'Bsef17a509', 'Bsef17a510', 'Bsef17a511', 'Bsef17a514', 'Bsef17a517', 'Bsef17a520', 'Bsef17a522', 'Bsef17a527', 'Bsef17a529', 'Bsef17a530', 'Bsef17a531', 'Bsef17a532', 'Bsef17a533', 'Bsef17a534', 'Bsef17a535', 'Bsef17a537', 'Bsef17a548', 'Bsef17a558', 'Bsef17a559', 'Bsef17m501', 'Bsef17m502', 'Bsef17m503', 'Bsef17m507', 'Bsef17m508', 'Bsef17m509', 'Bsef17m510', 'Bsef17m511', 'Bsef17m516', 'Bsef17m517', 'Bsef17m518', 'Bsef17m519', 'Bsef17m520', 'Bsef17m522', 'Bsef17m524', 'Bsef17m526', 'Bsef17m527', 'Bsef17m530', 'Bsef17m531', 'Bsef17m533', 'Bsef17m534', 'Bsef17m535', 'Bsef17m537', 'Bsef17m538', 'Bsef17m541', 'Bsef17m542', 'Bsef17m544', 'Bsef17m545', 'Bsef17m552', 'Bsef17m557', 'bsef17a511', 'bsef17a522', 'bsef17a527', 'bsef17a529', 'bsef17a530', 'bsef17a534', 'bsef17a535', 'bsef17a558', 'bsef17m502', 'bsef17m503', 'bsef17m507', 'bsef17m508', 'bsef17m510', 'bsef17m515', 'bsef17m516', 'bsef17m517', 'bsef17m526', 'bsef17m531', 'bsef17m534', 'bsef17m537', 'bsef17m538', 'bsef17m541', 'bsef17m542', 'bsef17m552', 'bsef17m557']\n"
     ]
    }
   ],
   "source": [
    "# Your code here\n",
    "import re\n",
    "import numpy as np\n",
    "attendanceList=[]\n",
    "\n",
    "file=open(r\"Attendance.txt\",encoding=\"utf8\")\n",
    "arr=file.read().split()\n",
    "for word in arr:\n",
    "    if re.search('bsef17.5..', word) or re.search('Bsef17.5..', word)  : \n",
    "        roll= (word.split('-'))\n",
    "        attendanceList.append(roll[0])\n",
    "        \n",
    "       \n",
    "\n",
    "\n",
    "attendanceList = list(dict.fromkeys(attendanceList))\n",
    "attendanceList.sort()\n",
    "print(attendanceList)"
   ]
  },
  {
   "cell_type": "markdown",
   "metadata": {},
   "source": [
    "#### Exercise 2: Hex output\n",
    "\n",
    "Define hex_output (function).\n",
    "Ask the user to enter a valid hexadecimal\n",
    "number (as a string), and print the decimal equivalent."
   ]
  },
  {
   "cell_type": "code",
   "execution_count": 6,
   "metadata": {},
   "outputs": [
    {
     "name": "stdout",
     "output_type": "stream",
     "text": [
      "enter a valid hexa number:123\n",
      "Value in hex: 123\n",
      "Value in decimal: 291\n"
     ]
    }
   ],
   "source": [
    "# Your code here\n",
    "# hex string\n",
    "\n",
    "# convert hex to decimal\n",
    "try:\n",
    "    num_hex = input(\"enter a valid hexa number:\") \n",
    "    num_dec = int(num_hex, 16)\n",
    "    print('Value in hex:', num_hex)\n",
    "    print('Value in decimal:', num_dec)\n",
    "except ValueError: \n",
    "    print(\"you enter invalid number\")\n"
   ]
  },
  {
   "cell_type": "markdown",
   "metadata": {},
   "source": [
    "#### Exercise 3: Pig Latin sentence\n",
    "\n",
    "Pig Latin (http://mng.bz/YrON) is a common children’s “secret” language in Englishspeaking countries. (It’s normally secret among children who forget that their parents were once children themselves.) The rules for translating words from English into Pig Latin are quite simple:\n",
    "- If the word begins with a vowel (a, e, i, o, or u), add “way” to the end of the word. So “air” becomes “airway” and “eat” becomes “eatway.”\n",
    "- If the word begins with any other letter, then we take the first letter, put it onthe end of the word, and then add “ay.” Thus, “python” becomes “ythonpay” and “computer” becomes “omputercay.”\n",
    "\n",
    "Write a function, pl_sentence, that takes a string\n",
    "argument. This string should be treated as a sentence\n",
    "(without capitals, and without punctuation).\n",
    "\n",
    "The function should return a string in which each word\n",
    "has been translated into Pig Latin."
   ]
  },
  {
   "cell_type": "code",
   "execution_count": 39,
   "metadata": {},
   "outputs": [
    {
     "name": "stdout",
     "output_type": "stream",
     "text": [
      "Enter Sentence! thet wet get\n",
      "hetay etway etgay \n"
     ]
    }
   ],
   "source": [
    "#Your Code here\n",
    "vowels=['a','e','i','o','u']\n",
    "newSentence=''\n",
    "sentances=input(\"Enter Sentence! \")\n",
    "sentances=sentances.replace(',', '')\n",
    "words=sentances.split()\n",
    "for word in words:\n",
    "    if(word[0].lower() in vowels):\n",
    "        newSentence=newSentence+word+\"way \"\n",
    "    else:\n",
    "        let=word[0]\n",
    "        word=word.replace(word[0],'')\n",
    "        newSentence=newSentence+word+let+\"ay \"\n",
    "print(newSentence)\n"
   ]
  },
  {
   "cell_type": "markdown",
   "metadata": {},
   "source": [
    "#### Exercise 4: Alphabetize names\n",
    "\n",
    "Takes a list of dicts describing people, each with first/last/email\n",
    "as keys. Return a new list of dicts, sorted first by last name\n",
    "and then by first name.\n",
    "\n",
    "If passed an empty list, then return an empty list."
   ]
  },
  {
   "cell_type": "code",
   "execution_count": null,
   "metadata": {},
   "outputs": [],
   "source": []
  },
  {
   "cell_type": "code",
   "execution_count": 66,
   "metadata": {},
   "outputs": [
    {
     "name": "stdout",
     "output_type": "stream",
     "text": [
      "[{'first': 'Donald', 'last': 'Lerner', 'email': 'reuven@lerner.co.il'}, {'first': 'Donald1', 'last': 'Lerner', 'email': 'president@whitehouse.gov'}, {'first': 'Vladimir', 'last': 'Putin', 'email': 'president@kremvax.ru'}]\n"
     ]
    }
   ],
   "source": [
    "# Your Code here\n",
    "arr = [{'first': 'Donald', 'last': 'Lerner',\n",
    "           'email': 'reuven@lerner.co.il'},\n",
    "          {'first': 'Donald1', 'last': 'Lerner',\n",
    "           'email': 'president@whitehouse.gov'},\n",
    "          {'first': 'Vladimir', 'last': 'Putin',\n",
    "           'email': 'president@kremvax.ru'}\n",
    "          ]\n",
    "\n",
    "n=len(people)\n",
    "for i in range(n): \n",
    "  \n",
    "        # Last i elements are already in place \n",
    "        for j in range(0, n-i-1): \n",
    "  \n",
    "            # traverse the array from 0 to n-i-1 \n",
    "            # Swap if the element found is greater \n",
    "            # than the next element \n",
    "            if arr[j]['last'] > arr[j+1]['last'] : \n",
    "                arr[j], arr[j+1] = arr[j+1], arr[j]   \n",
    "for i in range(n): \n",
    "  \n",
    "        # Last i elements are already in place \n",
    "        for j in range(0, n-i-1): \n",
    "  \n",
    "            # traverse the array from 0 to n-i-1 \n",
    "            # Swap if the element found is greater \n",
    "            # than the next element \n",
    "            if arr[j]['first'] > arr[j+1]['first'] : \n",
    "                arr[j], arr[j+1] = arr[j+1], arr[j]   \n",
    "\n",
    "                \n",
    "                \n",
    "print(arr)                \n"
   ]
  },
  {
   "cell_type": "markdown",
   "metadata": {},
   "source": [
    "#### Exercise 5: Most repeating letters\n",
    "\n",
    "Write a function, most_repeating_word, which takes a list of strings.\n",
    "It should return the word that has the greatest number of repeated \n",
    "letters."
   ]
  },
  {
   "cell_type": "code",
   "execution_count": 74,
   "metadata": {},
   "outputs": [
    {
     "data": {
      "text/plain": [
       "6"
      ]
     },
     "execution_count": 74,
     "metadata": {},
     "output_type": "execute_result"
    }
   ],
   "source": [
    "WORDS = ['this', 'is', 'an', 'elementary', 'test', 'example']\n",
    "    \n",
    "# this - 0\n",
    "# is - 0\n",
    "# an - 0\n",
    "# elementary - e 3\n",
    "# test - 2\n",
    "# example - 2\n"
   ]
  },
  {
   "cell_type": "code",
   "execution_count": 119,
   "metadata": {},
   "outputs": [
    {
     "data": {
      "text/plain": [
       "{'word': 'sadfaaaaafdsffaaa', 'letter': 'a', 'count': 9}"
      ]
     },
     "execution_count": 119,
     "metadata": {},
     "output_type": "execute_result"
    }
   ],
   "source": [
    "# Your Code here\n",
    "words = ['this', 'is', 'an', 'elementary', 'test','sadfaaaaafdsffaaa', 'example']\n",
    "def most_repeating_word(words):\n",
    "    obj={\n",
    "        'word':\"\",\n",
    "        'letter':'',\n",
    "        'count':0\n",
    "    }\n",
    "    lst=[]\n",
    "    count=0\n",
    "    preCount=0\n",
    "    repeatCount=0\n",
    "    for word in words:\n",
    "        n=len(word)\n",
    "        for i in range(n):\n",
    "            let=word[i]\n",
    "            for j in range(n):\n",
    "                if let == word[j]:\n",
    "                    count=count+1\n",
    "            if(preCount<count):\n",
    "                preCount=count\n",
    "                count=0\n",
    "                #print(word,let,preCount)\n",
    "                #obj['word']=word\n",
    "                #obj['letter']=let\n",
    "                #obj['count']=preCount\n",
    "                lst.append({'word':word,'let':let,'cnt':preCount})\n",
    "                preCount=0\n",
    "                count=0\n",
    "    m=len(lst)\n",
    "    \n",
    "    obj['count']=lst[0]['cnt']\n",
    "    obj['word'] =lst[0]['word']\n",
    "    obj['letter']=lst[0]['let']\n",
    "    for i in range(m-1):\n",
    "        if(obj['count']<lst[i]['cnt']):\n",
    "            obj['count']=lst[i]['cnt']\n",
    "            obj['word']=lst[i]['word']\n",
    "            obj['letter']=lst[i]['let']\n",
    "\n",
    "    return obj\n",
    "    \n",
    "   \n",
    "most_repeating_word(words)"
   ]
  },
  {
   "cell_type": "markdown",
   "metadata": {},
   "source": [
    "#### Exercise 6: Dictdiff\n",
    "\n",
    "Write a function, `dictdiff`, that accepts two dicts as arguments.\n",
    "\n",
    "It returns a dict describing the differences between the two arguments.\n",
    "\n",
    "Each key-value pair in the returned dict represents a difference. Each\n",
    "difference consists of a key and a two-element list, indicating the\n",
    "values from the two input dicts.  If a key exists in one dict but not\n",
    "another, then the corresponding value will be `None`.\n",
    "\n",
    "Example:\n",
    "\n",
    "d1 = {'a':1, 'b':2, 'c':3}\n",
    "d2 = {'a':1, 'b':2, 'd':4}\n",
    "d3 = {'a':1, 'b':3, 'd':5}\n",
    "\n",
    "print(dictdiff(d1, d2))\n",
    "\n",
    "output: {'c':[3, None], 'd':[None, 4]}\n",
    "\n",
    "print(dictdiff(d2, d3))\n",
    "\n",
    "output: {'b':[2,3], 'd':[4,5]}\n"
   ]
  },
  {
   "cell_type": "code",
   "execution_count": 160,
   "metadata": {},
   "outputs": [
    {
     "name": "stdout",
     "output_type": "stream",
     "text": [
      "d\n"
     ]
    },
    {
     "data": {
      "text/plain": [
       "[{'a': 3, 'd': 98},\n",
       " {'a': 3},\n",
       " {'a': 3, 'd': 98},\n",
       " {'a': 1},\n",
       " {'a': 3, 'd': 98},\n",
       " {'d': 98}]"
      ]
     },
     "execution_count": 160,
     "metadata": {},
     "output_type": "execute_result"
    }
   ],
   "source": [
    "# Your Code here\n",
    "dictionary1 = {\"a\": 1, \"b\": 2,'d':98}\n",
    "dictionary2 = {\"a\": 3, \"b\": 2,'c':90}\n",
    "def dictdiff(dictionary1,dictionary2):\n",
    "    common_pairs = dict()\n",
    "    lst=[]\n",
    "    for key in dictionary1:\n",
    "        if (key in dictionary2 and dictionary1[key] != dictionary2[key]):\n",
    "\n",
    "            common_pairs[key] = dictionary1[key]\n",
    "            lst.append(common_pairs)\n",
    "            lst.append({key:dictionary2[key]})\n",
    "\n",
    "    for key in dictionary2:\n",
    "        if (key in dictionary1 and dictionary2[key] != dictionary1[key]):\n",
    "\n",
    "            common_pairs[key] = dictionary2[key]\n",
    "            lst.append(common_pairs)\n",
    "            lst.append({key:dictionary1[key]})\n",
    "\n",
    "\n",
    "\n",
    "    for key in dictionary1:\n",
    "        if (key not in dictionary2 ):\n",
    "            print(key)\n",
    "\n",
    "            common_pairs[key] = dictionary1[key]\n",
    "            lst.append(common_pairs)\n",
    "            lst.append({key:dictionary1[key]})\n",
    "\n",
    "\n",
    "    for key in dictionary2:\n",
    "        if (key not in dictionary1):\n",
    "            print(key)\n",
    "\n",
    "            common_pairs[key] = dictionary2[key]\n",
    "            lst.append(common_pairs)\n",
    "            print(common_pairs)\n",
    "            lst.append({key:dictionary2[key]})\n",
    "\n",
    "\n",
    "        return lst\n",
    "dictdiff(dictionary1,dictionary2)"
   ]
  },
  {
   "cell_type": "code",
   "execution_count": null,
   "metadata": {},
   "outputs": [],
   "source": []
  }
 ],
 "metadata": {
  "kernelspec": {
   "display_name": "Python 3",
   "language": "python",
   "name": "python3"
  },
  "language_info": {
   "codemirror_mode": {
    "name": "ipython",
    "version": 3
   },
   "file_extension": ".py",
   "mimetype": "text/x-python",
   "name": "python",
   "nbconvert_exporter": "python",
   "pygments_lexer": "ipython3",
   "version": "3.7.4"
  }
 },
 "nbformat": 4,
 "nbformat_minor": 4
}
